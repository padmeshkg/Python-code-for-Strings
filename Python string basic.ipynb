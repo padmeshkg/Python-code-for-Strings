{
 "cells": [
  {
   "cell_type": "markdown",
   "id": "f65dfad9",
   "metadata": {},
   "source": [
    "YOU WILL LEARN BELOW THINGS IN THIS SECTION OF PYTHON\n",
    "\n",
    "1.\tString Slicing and Dicing Operations\n",
    "2.\tMultiplication of String\n",
    "3.\tspliting of String by 1 character and by blank\n",
    "4.\tHandle large strings in triple quotes\n",
    "5.\tConverting a string into Uppercase, lowercase\n",
    "6.\tTitlecase : converting first letter of each word in a sentence to upper case\n",
    "7.\tCapitalize first letter of a sentence\n",
    "8.\tSwapcase - \n",
    "9.\tREVERSE THE STRING - 2 ways\n",
    "10.\tTrimming of text using strip function - It trims blank spaces\n",
    "11.\tAdding a letter within a word repeatedly using join\n",
    "12.\tKeep String at center and add any letter around it\n",
    "13.\tfind weather string is uppercase, lowercase\n",
    "14.\tis space = if the string is a whitespace string\n",
    "15.\tIS DIGIT - if the string is a digit string\n",
    "16.\tfind weather a string Starts with and ends with any letter in a word\n",
    "17.\tfind if the string is alphanumeric /alpha"
   ]
  },
  {
   "cell_type": "markdown",
   "id": "5e526f25",
   "metadata": {},
   "source": [
    "### String Basics"
   ]
  },
  {
   "cell_type": "code",
   "execution_count": 1,
   "id": "e2aa7acc",
   "metadata": {},
   "outputs": [],
   "source": [
    "s = \"gratitude\""
   ]
  },
  {
   "cell_type": "code",
   "execution_count": 2,
   "id": "5e02c3e3",
   "metadata": {},
   "outputs": [
    {
     "data": {
      "text/plain": [
       "str"
      ]
     },
     "execution_count": 2,
     "metadata": {},
     "output_type": "execute_result"
    }
   ],
   "source": [
    "type(s)"
   ]
  },
  {
   "cell_type": "code",
   "execution_count": 3,
   "id": "6b963500",
   "metadata": {},
   "outputs": [
    {
     "data": {
      "text/plain": [
       "'g'"
      ]
     },
     "execution_count": 3,
     "metadata": {},
     "output_type": "execute_result"
    }
   ],
   "source": [
    "s[0]"
   ]
  },
  {
   "cell_type": "code",
   "execution_count": 4,
   "id": "2e9a1d1f",
   "metadata": {},
   "outputs": [
    {
     "data": {
      "text/plain": [
       "'t'"
      ]
     },
     "execution_count": 4,
     "metadata": {},
     "output_type": "execute_result"
    }
   ],
   "source": [
    "s[5]"
   ]
  },
  {
   "cell_type": "code",
   "execution_count": 5,
   "id": "74dcc648",
   "metadata": {},
   "outputs": [
    {
     "data": {
      "text/plain": [
       "'e'"
      ]
     },
     "execution_count": 5,
     "metadata": {},
     "output_type": "execute_result"
    }
   ],
   "source": [
    "s[-1]"
   ]
  },
  {
   "cell_type": "code",
   "execution_count": 6,
   "id": "1e302549",
   "metadata": {},
   "outputs": [],
   "source": [
    "s2 = \"I love Data Science and I am going to be famous data scientist across the globe\""
   ]
  },
  {
   "cell_type": "code",
   "execution_count": 7,
   "id": "73e266ed",
   "metadata": {},
   "outputs": [
    {
     "data": {
      "text/plain": [
       "'I love Data Science and I am going to be famous data scientist across the globe'"
      ]
     },
     "execution_count": 7,
     "metadata": {},
     "output_type": "execute_result"
    }
   ],
   "source": [
    "s2"
   ]
  },
  {
   "cell_type": "code",
   "execution_count": 8,
   "id": "118b592e",
   "metadata": {},
   "outputs": [
    {
     "data": {
      "text/plain": [
       "'a'"
      ]
     },
     "execution_count": 8,
     "metadata": {},
     "output_type": "execute_result"
    }
   ],
   "source": [
    "s2[8]"
   ]
  },
  {
   "cell_type": "markdown",
   "id": "9b7dfe16",
   "metadata": {},
   "source": [
    "### String Slicing and Dicing Operations "
   ]
  },
  {
   "cell_type": "markdown",
   "id": "fb0abfbc",
   "metadata": {},
   "source": [
    "#### 6 is not included"
   ]
  },
  {
   "cell_type": "code",
   "execution_count": 10,
   "id": "1db9f2f9",
   "metadata": {},
   "outputs": [
    {
     "data": {
      "text/plain": [
       "'love'"
      ]
     },
     "execution_count": 10,
     "metadata": {},
     "output_type": "execute_result"
    }
   ],
   "source": [
    "s2[2:6]"
   ]
  },
  {
   "cell_type": "code",
   "execution_count": 11,
   "id": "f0e89b9d",
   "metadata": {},
   "outputs": [
    {
     "data": {
      "text/plain": [
       "' Data Science and I am g'"
      ]
     },
     "execution_count": 11,
     "metadata": {},
     "output_type": "execute_result"
    }
   ],
   "source": [
    "s2[6:30]"
   ]
  },
  {
   "cell_type": "code",
   "execution_count": 12,
   "id": "b6fd616b",
   "metadata": {},
   "outputs": [
    {
     "data": {
      "text/plain": [
       "'gratitude'"
      ]
     },
     "execution_count": 12,
     "metadata": {},
     "output_type": "execute_result"
    }
   ],
   "source": [
    "s"
   ]
  },
  {
   "cell_type": "markdown",
   "id": "e56a206e",
   "metadata": {},
   "source": [
    "#### Steps directions is opposite to the text direction hence empty as output"
   ]
  },
  {
   "cell_type": "code",
   "execution_count": 13,
   "id": "f28ed68e",
   "metadata": {},
   "outputs": [
    {
     "data": {
      "text/plain": [
       "''"
      ]
     },
     "execution_count": 13,
     "metadata": {},
     "output_type": "execute_result"
    }
   ],
   "source": [
    "s[0:8:-1]"
   ]
  },
  {
   "cell_type": "code",
   "execution_count": 14,
   "id": "9d47cede",
   "metadata": {},
   "outputs": [
    {
     "data": {
      "text/plain": [
       "'edutitar'"
      ]
     },
     "execution_count": 14,
     "metadata": {},
     "output_type": "execute_result"
    }
   ],
   "source": [
    "s[8:0:-1]"
   ]
  },
  {
   "cell_type": "code",
   "execution_count": 15,
   "id": "933bd2d6",
   "metadata": {},
   "outputs": [
    {
     "data": {
      "text/plain": [
       "'euia'"
      ]
     },
     "execution_count": 15,
     "metadata": {},
     "output_type": "execute_result"
    }
   ],
   "source": [
    "s[8:0:-2]"
   ]
  },
  {
   "cell_type": "code",
   "execution_count": 16,
   "id": "e0424612",
   "metadata": {},
   "outputs": [
    {
     "data": {
      "text/plain": [
       "'gratit'"
      ]
     },
     "execution_count": 16,
     "metadata": {},
     "output_type": "execute_result"
    }
   ],
   "source": [
    "s[:-3]"
   ]
  },
  {
   "cell_type": "code",
   "execution_count": 17,
   "id": "94e7a886",
   "metadata": {},
   "outputs": [
    {
     "data": {
      "text/plain": [
       "'de'"
      ]
     },
     "execution_count": 17,
     "metadata": {},
     "output_type": "execute_result"
    }
   ],
   "source": [
    "s[-2:]"
   ]
  },
  {
   "cell_type": "code",
   "execution_count": 18,
   "id": "cb8082e4",
   "metadata": {},
   "outputs": [
    {
     "data": {
      "text/plain": [
       "'gratitude'"
      ]
     },
     "execution_count": 18,
     "metadata": {},
     "output_type": "execute_result"
    }
   ],
   "source": [
    "s[::1]"
   ]
  },
  {
   "cell_type": "code",
   "execution_count": 27,
   "id": "ebd823c5",
   "metadata": {},
   "outputs": [],
   "source": [
    "s3 = 'data science'"
   ]
  },
  {
   "cell_type": "code",
   "execution_count": 28,
   "id": "eff2195d",
   "metadata": {},
   "outputs": [
    {
     "data": {
      "text/plain": [
       "'ecneics atad'"
      ]
     },
     "execution_count": 28,
     "metadata": {},
     "output_type": "execute_result"
    }
   ],
   "source": [
    "s3[::-1]"
   ]
  },
  {
   "cell_type": "code",
   "execution_count": 29,
   "id": "ac1f7312",
   "metadata": {},
   "outputs": [
    {
     "data": {
      "text/plain": [
       "''"
      ]
     },
     "execution_count": 29,
     "metadata": {},
     "output_type": "execute_result"
    }
   ],
   "source": [
    "s3[-2:-7:1]"
   ]
  },
  {
   "cell_type": "code",
   "execution_count": 30,
   "id": "f93d9c08",
   "metadata": {},
   "outputs": [
    {
     "data": {
      "text/plain": [
       "'scien'"
      ]
     },
     "execution_count": 30,
     "metadata": {},
     "output_type": "execute_result"
    }
   ],
   "source": [
    "s3[-7:-2:1]"
   ]
  },
  {
   "cell_type": "code",
   "execution_count": 31,
   "id": "73c33469",
   "metadata": {},
   "outputs": [
    {
     "data": {
      "text/plain": [
       "'gratitude'"
      ]
     },
     "execution_count": 31,
     "metadata": {},
     "output_type": "execute_result"
    }
   ],
   "source": [
    "s "
   ]
  },
  {
   "cell_type": "markdown",
   "id": "cc31a6a6",
   "metadata": {},
   "source": [
    "### Multiplication of String"
   ]
  },
  {
   "cell_type": "code",
   "execution_count": 32,
   "id": "d6f3a56e",
   "metadata": {},
   "outputs": [
    {
     "data": {
      "text/plain": [
       "'gratitudegratitudegratitudegratitude'"
      ]
     },
     "execution_count": 32,
     "metadata": {},
     "output_type": "execute_result"
    }
   ],
   "source": [
    "s * 4"
   ]
  },
  {
   "cell_type": "code",
   "execution_count": 33,
   "id": "3e2032d4",
   "metadata": {},
   "outputs": [
    {
     "data": {
      "text/plain": [
       "'gratitude'"
      ]
     },
     "execution_count": 33,
     "metadata": {},
     "output_type": "execute_result"
    }
   ],
   "source": [
    "s"
   ]
  },
  {
   "cell_type": "code",
   "execution_count": 37,
   "id": "bacfea12",
   "metadata": {},
   "outputs": [
    {
     "data": {
      "text/plain": [
       "0"
      ]
     },
     "execution_count": 37,
     "metadata": {},
     "output_type": "execute_result"
    }
   ],
   "source": [
    "s.count('sum')"
   ]
  },
  {
   "cell_type": "code",
   "execution_count": 38,
   "id": "01d2de29",
   "metadata": {},
   "outputs": [
    {
     "data": {
      "text/plain": [
       "'gratitude'"
      ]
     },
     "execution_count": 38,
     "metadata": {},
     "output_type": "execute_result"
    }
   ],
   "source": [
    "s"
   ]
  },
  {
   "cell_type": "markdown",
   "id": "b2d4cb08",
   "metadata": {},
   "source": [
    "### spliting of String by 1 character"
   ]
  },
  {
   "cell_type": "code",
   "execution_count": 40,
   "id": "ad35d8ae",
   "metadata": {},
   "outputs": [
    {
     "data": {
      "text/plain": [
       "list"
      ]
     },
     "execution_count": 40,
     "metadata": {},
     "output_type": "execute_result"
    }
   ],
   "source": [
    "type(s.split('u'))"
   ]
  },
  {
   "cell_type": "code",
   "execution_count": 41,
   "id": "affd70a0",
   "metadata": {},
   "outputs": [
    {
     "data": {
      "text/plain": [
       "['gratit', 'de']"
      ]
     },
     "execution_count": 41,
     "metadata": {},
     "output_type": "execute_result"
    }
   ],
   "source": [
    "s.split('u')"
   ]
  },
  {
   "cell_type": "markdown",
   "id": "ee7b2a6d",
   "metadata": {},
   "source": [
    "### Keep text in triple quote"
   ]
  },
  {
   "cell_type": "code",
   "execution_count": 43,
   "id": "5dcacc72",
   "metadata": {},
   "outputs": [],
   "source": [
    "sw = \"\"\"Machine learning is a branch of artificial intelligence (AI) and computer science which focuses on the use of data and algorithms to imitate the way that humans learn, gradually improving its accuracy.\n",
    "\n",
    "IBM has a rich history with machine learning. One of its own, Arthur Samuel, is credited for coining the term, “machine learning” with his research (PDF, 481 KB) (link resides outside IBM) around the game of checkers. Robert Nealey, the self-proclaimed checkers master, played the game on an IBM 7094 computer in 1962, and he lost to the computer. Compared to what can be done today, this feat seems trivial, but it’s considered a major milestone in the field of artificial intelligence.\"\"\""
   ]
  },
  {
   "cell_type": "code",
   "execution_count": 46,
   "id": "3dc066d6",
   "metadata": {},
   "outputs": [],
   "source": [
    "sw = \"Machine learning is a branch of artificial intelligence (AI) and computer science which focuses on the use of data and algorithms to imitate the way that humans learn, gradually improving its accuracy.\""
   ]
  },
  {
   "cell_type": "code",
   "execution_count": 115,
   "id": "d31cb78c",
   "metadata": {},
   "outputs": [],
   "source": [
    "sw1 = 'Machine learning is a branch of artificial intelligence'"
   ]
  },
  {
   "cell_type": "markdown",
   "id": "5afba2c0",
   "metadata": {},
   "source": [
    "#### Splitting a string by blank "
   ]
  },
  {
   "cell_type": "code",
   "execution_count": 116,
   "id": "b3073218",
   "metadata": {},
   "outputs": [
    {
     "data": {
      "text/plain": [
       "['Machine',\n",
       " 'learning',\n",
       " 'is',\n",
       " 'a',\n",
       " 'branch',\n",
       " 'of',\n",
       " 'artificial',\n",
       " 'intelligence']"
      ]
     },
     "execution_count": 116,
     "metadata": {},
     "output_type": "execute_result"
    }
   ],
   "source": [
    "sw.split(' ')"
   ]
  },
  {
   "cell_type": "markdown",
   "id": "4f235c1e",
   "metadata": {},
   "source": [
    "### Converting a string into Uppercase, lowercase "
   ]
  },
  {
   "cell_type": "code",
   "execution_count": 49,
   "id": "a6cf48e1",
   "metadata": {},
   "outputs": [
    {
     "data": {
      "text/plain": [
       "'MACHINE LEARNING IS A BRANCH OF ARTIFICIAL INTELLIGENCE (AI) AND COMPUTER SCIENCE WHICH FOCUSES ON THE USE OF DATA AND ALGORITHMS TO IMITATE THE WAY THAT HUMANS LEARN, GRADUALLY IMPROVING ITS ACCURACY.'"
      ]
     },
     "execution_count": 49,
     "metadata": {},
     "output_type": "execute_result"
    }
   ],
   "source": [
    "sw.upper()"
   ]
  },
  {
   "cell_type": "code",
   "execution_count": 51,
   "id": "c5247dce",
   "metadata": {},
   "outputs": [
    {
     "data": {
      "text/plain": [
       "'machine learning is a branch of artificial intelligence (ai) and computer science which focuses on the use of data and algorithms to imitate the way that humans learn, gradually improving its accuracy.'"
      ]
     },
     "execution_count": 51,
     "metadata": {},
     "output_type": "execute_result"
    }
   ],
   "source": [
    "sw.lower()"
   ]
  },
  {
   "cell_type": "markdown",
   "id": "cc40361f",
   "metadata": {},
   "source": [
    "### Titlecase : converting first letter of each word in a sentence to upper case "
   ]
  },
  {
   "cell_type": "code",
   "execution_count": 52,
   "id": "622fc5af",
   "metadata": {},
   "outputs": [
    {
     "data": {
      "text/plain": [
       "'Machine Learning Is A Branch Of Artificial Intelligence (Ai) And Computer Science Which Focuses On The Use Of Data And Algorithms To Imitate The Way That Humans Learn, Gradually Improving Its Accuracy.'"
      ]
     },
     "execution_count": 52,
     "metadata": {},
     "output_type": "execute_result"
    }
   ],
   "source": [
    "sw.title()"
   ]
  },
  {
   "cell_type": "markdown",
   "id": "a6fed4da",
   "metadata": {},
   "source": [
    "### Capitalize first letter of a sentence"
   ]
  },
  {
   "cell_type": "code",
   "execution_count": 53,
   "id": "6ba9191a",
   "metadata": {},
   "outputs": [
    {
     "data": {
      "text/plain": [
       "'Machine learning is a branch of artificial intelligence (ai) and computer science which focuses on the use of data and algorithms to imitate the way that humans learn, gradually improving its accuracy.'"
      ]
     },
     "execution_count": 53,
     "metadata": {},
     "output_type": "execute_result"
    }
   ],
   "source": [
    "sw.capitalize()"
   ]
  },
  {
   "cell_type": "markdown",
   "id": "67f5ef91",
   "metadata": {},
   "source": [
    "### Interchange upper to lower and vice versa"
   ]
  },
  {
   "cell_type": "code",
   "execution_count": 64,
   "id": "455898e8",
   "metadata": {},
   "outputs": [
    {
     "data": {
      "text/plain": [
       "'mACHINE LEARNING IS A BRANCH OF ARTIFICIAL INTELLIGENCE (ai) AND COMPUTER SCIENCE WHICH FOCUSES ON THE USE OF DATA AND ALGORITHMS TO IMITATE THE WAY THAT HUMANS LEARN, GRADUALLY IMPROVING ITS ACCURACY.'"
      ]
     },
     "execution_count": 64,
     "metadata": {},
     "output_type": "execute_result"
    }
   ],
   "source": [
    "sw.swapcase()"
   ]
  },
  {
   "cell_type": "markdown",
   "id": "243901f8",
   "metadata": {},
   "source": [
    "### REVERSE THE STRING - 2 ways"
   ]
  },
  {
   "cell_type": "code",
   "execution_count": 65,
   "id": "85ccaeb7",
   "metadata": {},
   "outputs": [],
   "source": [
    "ml = \"machine learning\""
   ]
  },
  {
   "cell_type": "code",
   "execution_count": 70,
   "id": "a00ec045",
   "metadata": {},
   "outputs": [
    {
     "data": {
      "text/plain": [
       "'gninrael enihcam'"
      ]
     },
     "execution_count": 70,
     "metadata": {},
     "output_type": "execute_result"
    }
   ],
   "source": [
    "\"\".join(reversed(ml))"
   ]
  },
  {
   "cell_type": "code",
   "execution_count": 69,
   "id": "61c9dccb",
   "metadata": {},
   "outputs": [
    {
     "data": {
      "text/plain": [
       "'gninrael enihcam'"
      ]
     },
     "execution_count": 69,
     "metadata": {},
     "output_type": "execute_result"
    }
   ],
   "source": [
    "ml[::-1]"
   ]
  },
  {
   "cell_type": "markdown",
   "id": "0e28cc60",
   "metadata": {},
   "source": [
    "###  Trimming of text using strip function - It trims blank spaces"
   ]
  },
  {
   "cell_type": "code",
   "execution_count": 71,
   "id": "472dbbd0",
   "metadata": {},
   "outputs": [],
   "source": [
    "py = '  Python  '"
   ]
  },
  {
   "cell_type": "code",
   "execution_count": 73,
   "id": "7d512c42",
   "metadata": {
    "scrolled": true
   },
   "outputs": [
    {
     "data": {
      "text/plain": [
       "'Python'"
      ]
     },
     "execution_count": 73,
     "metadata": {},
     "output_type": "execute_result"
    }
   ],
   "source": [
    "py.strip()"
   ]
  },
  {
   "cell_type": "code",
   "execution_count": 74,
   "id": "12e41eab",
   "metadata": {},
   "outputs": [
    {
     "data": {
      "text/plain": [
       "'Python  '"
      ]
     },
     "execution_count": 74,
     "metadata": {},
     "output_type": "execute_result"
    }
   ],
   "source": [
    "py.lstrip()"
   ]
  },
  {
   "cell_type": "code",
   "execution_count": 75,
   "id": "3c058480",
   "metadata": {},
   "outputs": [
    {
     "data": {
      "text/plain": [
       "'  Python'"
      ]
     },
     "execution_count": 75,
     "metadata": {},
     "output_type": "execute_result"
    }
   ],
   "source": [
    "py.rstrip()"
   ]
  },
  {
   "cell_type": "markdown",
   "id": "6c30a999",
   "metadata": {},
   "source": [
    "### Adding a letter within a word repeatedly using join"
   ]
  },
  {
   "cell_type": "code",
   "execution_count": 77,
   "id": "5f6a1ad8",
   "metadata": {},
   "outputs": [
    {
     "data": {
      "text/plain": [
       "'DloveAloveTloveAlove loveSloveCloveIloveEloveNloveCloveE'"
      ]
     },
     "execution_count": 77,
     "metadata": {},
     "output_type": "execute_result"
    }
   ],
   "source": [
    "\"love\" . join(\"DATA SCIENCE\")"
   ]
  },
  {
   "cell_type": "markdown",
   "id": "4da934e3",
   "metadata": {},
   "source": [
    "### Keep String at center and add any letter  around it"
   ]
  },
  {
   "cell_type": "code",
   "execution_count": 81,
   "id": "45c7e91b",
   "metadata": {},
   "outputs": [
    {
     "data": {
      "text/plain": [
       "'##########  Python  #########'"
      ]
     },
     "execution_count": 81,
     "metadata": {},
     "output_type": "execute_result"
    }
   ],
   "source": [
    "py.center(29 , '#')"
   ]
  },
  {
   "cell_type": "markdown",
   "id": "0cb5c15d",
   "metadata": {},
   "source": [
    "### find weather string is uppercase, lowercase "
   ]
  },
  {
   "cell_type": "code",
   "execution_count": 87,
   "id": "cb8953d0",
   "metadata": {},
   "outputs": [
    {
     "data": {
      "text/plain": [
       "False"
      ]
     },
     "execution_count": 87,
     "metadata": {},
     "output_type": "execute_result"
    }
   ],
   "source": [
    "py.isupper()"
   ]
  },
  {
   "cell_type": "code",
   "execution_count": 85,
   "id": "94f47204",
   "metadata": {},
   "outputs": [
    {
     "data": {
      "text/plain": [
       "False"
      ]
     },
     "execution_count": 85,
     "metadata": {},
     "output_type": "execute_result"
    }
   ],
   "source": [
    "py.islower()"
   ]
  },
  {
   "cell_type": "markdown",
   "id": "2a892d9b",
   "metadata": {},
   "source": [
    "### is space = if the string is a whitespace string"
   ]
  },
  {
   "cell_type": "code",
   "execution_count": 86,
   "id": "07f647af",
   "metadata": {},
   "outputs": [
    {
     "data": {
      "text/plain": [
       "False"
      ]
     },
     "execution_count": 86,
     "metadata": {},
     "output_type": "execute_result"
    }
   ],
   "source": [
    "s.isspace()"
   ]
  },
  {
   "cell_type": "code",
   "execution_count": 88,
   "id": "f850c464",
   "metadata": {},
   "outputs": [],
   "source": [
    "s4  = \"   \""
   ]
  },
  {
   "cell_type": "code",
   "execution_count": 89,
   "id": "992b5c57",
   "metadata": {},
   "outputs": [
    {
     "data": {
      "text/plain": [
       "True"
      ]
     },
     "execution_count": 89,
     "metadata": {},
     "output_type": "execute_result"
    }
   ],
   "source": [
    "s4.isspace()"
   ]
  },
  {
   "cell_type": "markdown",
   "id": "53866dfb",
   "metadata": {},
   "source": [
    "### IS DIGIT - if the string is a digit string"
   ]
  },
  {
   "cell_type": "code",
   "execution_count": 91,
   "id": "3feccd08",
   "metadata": {},
   "outputs": [],
   "source": [
    "s5 = \"32424\""
   ]
  },
  {
   "cell_type": "code",
   "execution_count": 92,
   "id": "faca1ecb",
   "metadata": {},
   "outputs": [
    {
     "data": {
      "text/plain": [
       "True"
      ]
     },
     "execution_count": 92,
     "metadata": {},
     "output_type": "execute_result"
    }
   ],
   "source": [
    "s5.isdigit()"
   ]
  },
  {
   "cell_type": "markdown",
   "id": "d0d12ced",
   "metadata": {},
   "source": [
    "### ALNUM -  A string is alpha-numeric if all characters in the string are alpha-numeric and there is at least one character in the string."
   ]
  },
  {
   "cell_type": "code",
   "execution_count": 97,
   "id": "5fe5eb13",
   "metadata": {},
   "outputs": [],
   "source": [
    "py1 = \"python3\""
   ]
  },
  {
   "cell_type": "code",
   "execution_count": 98,
   "id": "4f29c5a7",
   "metadata": {},
   "outputs": [
    {
     "data": {
      "text/plain": [
       "True"
      ]
     },
     "execution_count": 98,
     "metadata": {},
     "output_type": "execute_result"
    }
   ],
   "source": [
    "py1.isalnum()"
   ]
  },
  {
   "cell_type": "markdown",
   "id": "0c3712c7",
   "metadata": {},
   "source": [
    "### A string is alphabetic if all characters in the string are alphabetic and thereis at least one character in the string."
   ]
  },
  {
   "cell_type": "code",
   "execution_count": 106,
   "id": "e4b9a9cd",
   "metadata": {},
   "outputs": [],
   "source": [
    "py2 = \"python\""
   ]
  },
  {
   "cell_type": "code",
   "execution_count": 107,
   "id": "289cf2b8",
   "metadata": {},
   "outputs": [
    {
     "data": {
      "text/plain": [
       "True"
      ]
     },
     "execution_count": 107,
     "metadata": {},
     "output_type": "execute_result"
    }
   ],
   "source": [
    "py2.isalpha()"
   ]
  },
  {
   "cell_type": "markdown",
   "id": "794a1708",
   "metadata": {},
   "source": [
    "### finds Starts with and ends with any letter i a word "
   ]
  },
  {
   "cell_type": "code",
   "execution_count": 111,
   "id": "7865130b",
   "metadata": {},
   "outputs": [
    {
     "data": {
      "text/plain": [
       "'  Python  '"
      ]
     },
     "execution_count": 111,
     "metadata": {},
     "output_type": "execute_result"
    }
   ],
   "source": [
    "py"
   ]
  },
  {
   "cell_type": "code",
   "execution_count": 112,
   "id": "c05c939c",
   "metadata": {},
   "outputs": [
    {
     "data": {
      "text/plain": [
       "True"
      ]
     },
     "execution_count": 112,
     "metadata": {},
     "output_type": "execute_result"
    }
   ],
   "source": [
    "py.startswith(' ')"
   ]
  },
  {
   "cell_type": "code",
   "execution_count": 114,
   "id": "4a8014d4",
   "metadata": {},
   "outputs": [
    {
     "data": {
      "text/plain": [
       "True"
      ]
     },
     "execution_count": 114,
     "metadata": {},
     "output_type": "execute_result"
    }
   ],
   "source": [
    "py.endswith(' ')"
   ]
  },
  {
   "cell_type": "markdown",
   "id": "a539e14f",
   "metadata": {},
   "source": [
    "# THANKS FOR LEARNING. I hope this is useful."
   ]
  },
  {
   "cell_type": "code",
   "execution_count": null,
   "id": "55207ec6",
   "metadata": {},
   "outputs": [],
   "source": []
  }
 ],
 "metadata": {
  "kernelspec": {
   "display_name": "Python 3 (ipykernel)",
   "language": "python",
   "name": "python3"
  },
  "language_info": {
   "codemirror_mode": {
    "name": "ipython",
    "version": 3
   },
   "file_extension": ".py",
   "mimetype": "text/x-python",
   "name": "python",
   "nbconvert_exporter": "python",
   "pygments_lexer": "ipython3",
   "version": "3.9.13"
  }
 },
 "nbformat": 4,
 "nbformat_minor": 5
}
